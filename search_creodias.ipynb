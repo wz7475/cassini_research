{
 "cells": [
  {
   "cell_type": "code",
   "execution_count": 9,
   "metadata": {},
   "outputs": [],
   "source": [
    "import requests\n",
    "import json"
   ]
  },
  {
   "attachments": {},
   "cell_type": "markdown",
   "metadata": {},
   "source": [
    "latitude - szerokość - góra/dół na mapie\n",
    "longitude - długość - prawo/lewo na mapie"
   ]
  },
  {
   "cell_type": "code",
   "execution_count": 10,
   "metadata": {},
   "outputs": [
    {
     "data": {
      "text/plain": [
       "<folium.vector_layers.Rectangle at 0x7f82b4365d50>"
      ]
     },
     "execution_count": 10,
     "metadata": {},
     "output_type": "execute_result"
    }
   ],
   "source": [
    "\"\"\"cell to visualize the bounding box on a map\"\"\"\"\"\n",
    "\n",
    "import folium\n",
    "\n",
    "# Create a map centered around Warsaw\n",
    "map = folium.Map(location=[52.2297, 21.0122], zoom_start=10)\n",
    "\n",
    "# Define the bounding box as a list of coordinates\n",
    "bbox = [[52.0, 20.5], [53.0, 21.5]]\n",
    "\n",
    "# Draw a rectangle on the map to represent the bounding box\n",
    "folium.Rectangle(\n",
    "    bounds=bbox,\n",
    "    fill=False,\n",
    "    color='red'\n",
    ").add_to(map)\n",
    "\n",
    "# Display the map\n",
    "#map\n"
   ]
  },
  {
   "attachments": {},
   "cell_type": "markdown",
   "metadata": {},
   "source": [
    "## parameters to search"
   ]
  },
  {
   "cell_type": "code",
   "execution_count": 11,
   "metadata": {},
   "outputs": [],
   "source": [
    "collection = 'Sentinel2'\n",
    "bbox = '20.50,52.00,21.50,53.00'\n",
    "start_date = '2022-02-23T00:00:00Z'\n",
    "end_date = '2022-03-23T23:59:59Z'\n",
    "max_records = 50\n",
    "\n",
    "\n",
    "response = requests.get('https://finder.creodias.eu/resto/api/collections/Sentinel2/search.json?maxRecords=50&bbox=20.50,52.00,21.50,53.00&startDate=2022-02-23T00:00:00Z&completionDate=2022-03-23T23:59:59Z')"
   ]
  },
  {
   "cell_type": "code",
   "execution_count": 12,
   "metadata": {},
   "outputs": [],
   "source": [
    "response_dict = response.json()\n",
    "save_to_file = None # insert path to file here if want to save the response to a file\n",
    "\n",
    "if save_to_file:\n",
    "    with open (save_to_file, 'w') as f:\n",
    "        json.dump(response.json(), f, indent=4)"
   ]
  },
  {
   "cell_type": "code",
   "execution_count": 13,
   "metadata": {},
   "outputs": [
    {
     "data": {
      "text/plain": [
       "{'collection': 'SENTINEL-2',\n",
       " 'status': 'ONLINE',\n",
       " 'license': {'licenseId': 'unlicensed',\n",
       "  'hasToBeSigned': 'never',\n",
       "  'grantedCountries': None,\n",
       "  'grantedOrganizationCountries': None,\n",
       "  'grantedFlags': None,\n",
       "  'viewService': 'public',\n",
       "  'signatureQuota': -1,\n",
       "  'description': {'shortName': 'No license'}},\n",
       " 'productIdentifier': '/eodata/Sentinel-2/MSI/L1C/2022/03/18/S2B_MSIL1C_20220318T080649_N0400_R078_T41XMC_20220318T083217.SAFE',\n",
       " 'parentIdentifier': None,\n",
       " 'title': 'S2B_MSIL1C_20220318T080649_N0400_R078_T41XMC_20220318T083217.SAFE',\n",
       " 'description': None,\n",
       " 'organisationName': 'ESA',\n",
       " 'startDate': '2022-03-18T08:06:49.024Z',\n",
       " 'completionDate': '2022-03-18T08:06:49.024Z',\n",
       " 'productType': 'S2MSI1C',\n",
       " 'processingLevel': 'S2MSI1C',\n",
       " 'platform': 'S2B',\n",
       " 'instrument': 'MSI',\n",
       " 'resolution': 60.0,\n",
       " 'sensorMode': 'INS-NOBS',\n",
       " 'orbitNumber': 26273,\n",
       " 'quicklook': None,\n",
       " 'thumbnail': 'https://finder.creodias.eu/files/Sentinel-2/MSI/L1C/2022/03/18/S2B_MSIL1C_20220318T080649_N0400_R078_T41XMC_20220318T083217.SAFE/S2B_MSIL1C_20220318T080649_N0400_R078_T41XMC_20220318T083217-ql.jpg',\n",
       " 'updated': '2022-03-18T10:02:58.769Z',\n",
       " 'published': '2022-03-18T10:02:58.769Z',\n",
       " 'snowCover': 0,\n",
       " 'cloudCover': 100.0,\n",
       " 'gmlgeometry': '<gml:Polygon srsName=\"EPSG:4326\"><gml:outerBoundaryIs><gml:LinearRing><gml:coordinates>60.758434465099,73.787052092113 63.313497022141,73.804381229169 63.333243763838,74.788530683518 62.774569509485,74.784723522128 62.688930506354,74.745142432136 62.412111026512,74.61450074387 62.138933416796,74.483597991127 61.868972641827,74.352456038606 61.602974409174,74.221000735845 61.341239010341,74.089234288715 61.083549365815,73.95718271576 60.829688294129,73.824876565775 60.758434465099,73.787052092113</gml:coordinates></gml:LinearRing></gml:outerBoundaryIs></gml:Polygon>',\n",
       " 'centroid': {'type': 'Point',\n",
       "  'coordinates': [62.42668565683157, 74.18666200354296]},\n",
       " 'orbitDirection': 'DESCENDING',\n",
       " 'timeliness': None,\n",
       " 'relativeOrbitNumber': 78,\n",
       " 'processingBaseline': 4.0,\n",
       " 'missionTakeId': 'GS2B_20220318T080649_026273_N04.00',\n",
       " 'services': {'download': {'url': 'https://zipper.creodias.eu/download/bd432751-a6e8-5e72-b0cc-061c3b2d98ea',\n",
       "   'mimeType': 'application/octet-stream',\n",
       "   'size': 0}},\n",
       " 'links': [{'rel': 'self',\n",
       "   'type': 'application/json',\n",
       "   'title': 'GeoJSON link for bd432751-a6e8-5e72-b0cc-061c3b2d98ea',\n",
       "   'href': 'http://finder.creodias.eu/resto/collections/SENTINEL-2/bd432751-a6e8-5e72-b0cc-061c3b2d98ea.json'}]}"
      ]
     },
     "execution_count": 13,
     "metadata": {},
     "output_type": "execute_result"
    }
   ],
   "source": [
    "# properties of the first feature\n",
    "response_dict[\"features\"][0][\"properties\"]\n"
   ]
  },
  {
   "cell_type": "code",
   "execution_count": 14,
   "metadata": {},
   "outputs": [],
   "source": [
    "img_path = response_dict[\"features\"][0][\"properties\"][\"thumbnail\"]"
   ]
  },
  {
   "cell_type": "code",
   "execution_count": 15,
   "metadata": {},
   "outputs": [
    {
     "data": {
      "image/jpeg": "[encoded data removed]",
      "text/plain": [
       "<IPython.core.display.Image object>"
      ]
     },
     "execution_count": 15,
     "metadata": {},
     "output_type": "execute_result"
    }
   ],
   "source": [
    "# dwonload the image\n",
    "img = requests.get(img_path)\n",
    "# plot the image\n",
    "from IPython.display import Image\n",
    "Image(img.content)\n"
   ]
  }
 ],
 "metadata": {
  "kernelspec": {
   "display_name": "ssne",
   "language": "python",
   "name": "python3"
  },
  "language_info": {
   "codemirror_mode": {
    "name": "ipython",
    "version": 3
   },
   "file_extension": ".py",
   "mimetype": "text/x-python",
   "name": "python",
   "nbconvert_exporter": "python",
   "pygments_lexer": "ipython3",
   "version": "3.10.9"
  },
  "orig_nbformat": 4,
  "vscode": {
   "interpreter": {
    "hash": "792291b76dd247534684eb6a3ddd4f69470cd63ea3b98fb502316c026ed0b4d2"
   }
  }
 },
 "nbformat": 4,
 "nbformat_minor": 2
}
