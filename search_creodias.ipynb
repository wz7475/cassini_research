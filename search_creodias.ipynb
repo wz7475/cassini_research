{
 "cells": [
  {
   "cell_type": "code",
   "execution_count": 30,
   "metadata": {},
   "outputs": [],
   "source": [
    "import requests\n",
    "import json"
   ]
  },
  {
   "attachments": {},
   "cell_type": "markdown",
   "metadata": {},
   "source": [
    "latitude - szerokość - góra/dół na mapie\n",
    "longitude - długość - prawo/lewo na mapie"
   ]
  },
  {
   "cell_type": "code",
   "execution_count": 31,
   "metadata": {},
   "outputs": [
    {
     "data": {
      "text/plain": [
       "<folium.vector_layers.Rectangle at 0x7f82b45df8b0>"
      ]
     },
     "execution_count": 31,
     "metadata": {},
     "output_type": "execute_result"
    }
   ],
   "source": [
    "\"\"\"cell to visualize the bounding box on a map\"\"\"\"\"\n",
    "\n",
    "import folium\n",
    "\n",
    "# Create a map centered around Warsaw\n",
    "map = folium.Map(location=[52.2297, 21.0122], zoom_start=10)\n",
    "\n",
    "# Define the bounding box as a list of coordinates\n",
    "bbox = [[52.0, 20.5], [53.0, 21.5]]\n",
    "\n",
    "# Draw a rectangle on the map to represent the bounding box\n",
    "folium.Rectangle(\n",
    "    bounds=bbox,\n",
    "    fill=False,\n",
    "    color='red'\n",
    ").add_to(map)\n",
    "\n",
    "# Display the map\n",
    "#map\n"
   ]
  },
  {
   "attachments": {},
   "cell_type": "markdown",
   "metadata": {},
   "source": [
    "## parameters to search"
   ]
  },
  {
   "cell_type": "code",
   "execution_count": 32,
   "metadata": {},
   "outputs": [],
   "source": [
    "collection = 'Sentinel2'\n",
    "bbox = '20.50,52.00,21.50,53.00'\n",
    "start_date = '2022-02-23T00:00:00Z'\n",
    "end_date = '2022-03-23T23:59:59Z'\n",
    "max_records = 5\n"
   ]
  },
  {
   "cell_type": "code",
   "execution_count": 33,
   "metadata": {},
   "outputs": [],
   "source": [
    "def make_request_with_parameters(collection, bbox, start_date, end_date, max_records):\n",
    "    \"\"\"\n",
    "    Make a request to the API with the given parameters.\n",
    "    \"\"\"\n",
    "    # Create the URL\n",
    "    url = f'https://finder.creodias.eu/resto/api/collections/{collection}/search.json?maxRecords={max_records}&bbox={bbox}&startDate={start_date}&completionDate={end_date}'\n",
    "    # Make the request\n",
    "    response = requests.get(url)\n",
    "    # Return the response\n",
    "    return response.json()"
   ]
  },
  {
   "cell_type": "code",
   "execution_count": 34,
   "metadata": {},
   "outputs": [],
   "source": [
    "response_dict =  make_request_with_parameters(collection, bbox, start_date, end_date, max_records)\n",
    "\n",
    "save_to_file = None # insert path to file here if want to save the response to a file\n",
    "if save_to_file:\n",
    "    with open (save_to_file, 'w') as f:\n",
    "        json.dump(response.json(), f, indent=4)"
   ]
  },
  {
   "cell_type": "code",
   "execution_count": 35,
   "metadata": {},
   "outputs": [],
   "source": [
    "# properties of the first feature\n",
    "# response_dict[\"features\"][0][\"properties\"]\n"
   ]
  },
  {
   "cell_type": "code",
   "execution_count": 36,
   "metadata": {},
   "outputs": [
    {
     "data": {
      "text/plain": [
       "['https://finder.creodias.eu/files/Sentinel-2/MSI/L1C/2022/03/18/S2B_MSIL1C_20220318T080649_N0400_R078_T41XMC_20220318T083217.SAFE/S2B_MSIL1C_20220318T080649_N0400_R078_T41XMC_20220318T083217-ql.jpg',\n",
       " 'https://finder.creodias.eu/files/Sentinel-2/MSI/L1C/2022/03/18/S2B_MSIL1C_20220318T070849_N0400_R077_T33CWV_20220318T083207.SAFE/S2B_MSIL1C_20220318T070849_N0400_R077_T33CWV_20220318T083207-ql.jpg',\n",
       " 'https://finder.creodias.eu/files/Sentinel-2/MSI/L1C/2022/03/18/S2B_MSIL1C_20220318T080649_N0400_R078_T43XEH_20220318T083217.SAFE/S2B_MSIL1C_20220318T080649_N0400_R078_T43XEH_20220318T083217-ql.jpg',\n",
       " 'https://finder.creodias.eu/files/Sentinel-2/MSI/L1C/2022/03/18/S2B_MSIL1C_20220318T062629_N0400_R077_T43WFT_20220318T074430.SAFE/S2B_MSIL1C_20220318T062629_N0400_R077_T43WFT_20220318T074430-ql.jpg',\n",
       " 'https://finder.creodias.eu/files/Sentinel-2/MSI/L2A/2022/03/03/S2B_MSIL2A_20220303T122039_N0400_R009_T31WDU_20220303T133914.SAFE/S2B_MSIL2A_20220303T122039_N0400_R009_T31WDU_20220303T133914-ql.jpg']"
      ]
     },
     "execution_count": 36,
     "metadata": {},
     "output_type": "execute_result"
    }
   ],
   "source": [
    "def get_image_urls(response_dict):\n",
    "    \"\"\"\n",
    "    Return a list of image URLs from the response dictionary.\n",
    "    \"\"\"\n",
    "    # Create an empty list to store the image URLs\n",
    "    image_urls = []\n",
    "    # Iterate through the features in the response dictionary\n",
    "    for feature in response_dict[\"features\"]:\n",
    "        # Get the image URL from the feature properties\n",
    "        image_url = feature[\"properties\"][\"thumbnail\"]\n",
    "        # Append the image URL to the list\n",
    "        image_urls.append(image_url)\n",
    "    # Return the list of image URLs\n",
    "    return image_urls\n",
    "\n",
    "\n",
    "image_urls = get_image_urls(response_dict)\n",
    "image_urls"
   ]
  },
  {
   "cell_type": "code",
   "execution_count": 38,
   "metadata": {},
   "outputs": [],
   "source": [
    "# download the all images\n",
    "import wget\n",
    "import os\n",
    "\n",
    "path_for_downloaded_images = 'imgs/'\n",
    "if not os.path.exists(path_for_downloaded_images):\n",
    "    os.mkdir(path_for_downloaded_images)\n",
    "\n",
    "for url in image_urls:\n",
    "    # download the image in to specified folder\n",
    "    wget.download(url, out='imgs/')"
   ]
  }
 ],
 "metadata": {
  "kernelspec": {
   "display_name": "ssne",
   "language": "python",
   "name": "python3"
  },
  "language_info": {
   "codemirror_mode": {
    "name": "ipython",
    "version": 3
   },
   "file_extension": ".py",
   "mimetype": "text/x-python",
   "name": "python",
   "nbconvert_exporter": "python",
   "pygments_lexer": "ipython3",
   "version": "3.10.9"
  },
  "orig_nbformat": 4,
  "vscode": {
   "interpreter": {
    "hash": "792291b76dd247534684eb6a3ddd4f69470cd63ea3b98fb502316c026ed0b4d2"
   }
  }
 },
 "nbformat": 4,
 "nbformat_minor": 2
}
